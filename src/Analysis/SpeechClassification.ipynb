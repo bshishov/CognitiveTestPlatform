{
 "cells": [
  {
   "cell_type": "code",
   "execution_count": 1,
   "metadata": {
    "collapsed": false
   },
   "outputs": [
    {
     "name": "stderr",
     "output_type": "stream",
     "text": [
      "c:\\users\\boris\\documents\\scikit-learn-master\\sklearn\\cross_validation.py:43: DeprecationWarning: This module has been deprecated in favor of the model_selection module into which all the refactored classes and functions are moved. Also note that the interface of the new CV iterators are different from that of this module. This module will be removed in 0.20.\n",
      "  \"This module will be removed in 0.20.\", DeprecationWarning)\n"
     ]
    }
   ],
   "source": [
    "import math\n",
    "import matplotlib.pyplot as plt\n",
    "%matplotlib inline\n",
    "import numpy as np\n",
    "import pandas as pd\n",
    "from sklearn import preprocessing\n",
    "from sklearn import cross_validation\n",
    "\n",
    "import seaborn as sns\n",
    "sns.set()\n",
    "sns.set(style=\"whitegrid\")"
   ]
  },
  {
   "cell_type": "markdown",
   "metadata": {},
   "source": [
    "## Загрузим данные"
   ]
  },
  {
   "cell_type": "code",
   "execution_count": 164,
   "metadata": {
    "collapsed": false
   },
   "outputs": [],
   "source": [
    "#dbname = 'speech_train'\n",
    "dbname = 'Liberman M Emotional Prosody Speech and Transcripts'\n",
    "#dbname = 'Emo-DB'\n",
    "#db = pd.read_csv(\"speech/\" + dbname, usecols=[\"class\",\"F0mean\",\"F0std\",\"Shimmer\",\"Jitter\",\"HFEnergy\"])\n",
    "db = pd.read_csv(\"speech/\" + dbname + \".csv\")\n",
    "\n",
    "db = db.dropna()\n",
    "\n",
    "#valueCols = [\"F0Mean\",\"F0Std\",\"Shimmer\",\"Jitter\",\"HFEnergy\", \"M2\", \"M3\", \"M4\", \"M5\", \"M6\", \"M7\", \"M8\", \"M9\", \"M10\", \"M11\", \"M12\", \"M13\", \"M14\", \"M15\", \"M16\"]\n",
    "#valueCols = [\"M2\", \"M3\", \"M4\", \"M5\", \"M6\", \"M7\", \"M8\", \"M9\", \"M10\", \"M11\", \"M12\", \"M13\", \"M14\", \"M15\", \"M16\"]\n",
    "valueCols = [\"M2\", \"M3\", \"M4\", \"M5\", \"M6\", \"M7\", \"M8\", \"M9\"]\n",
    "\n",
    "# Преобразуем из строки в число\n",
    "#db['M1'] = db['M1'].str.replace('%','').astype(np.float64)\n",
    "#db.dtypes"
   ]
  },
  {
   "cell_type": "markdown",
   "metadata": {},
   "source": [
    "Извлечем метки и индексы классов из Path"
   ]
  },
  {
   "cell_type": "code",
   "execution_count": 165,
   "metadata": {
    "collapsed": false
   },
   "outputs": [],
   "source": [
    "import os\n",
    "def getClassName(path):\n",
    "    p = path.replace('\\\\', '/')    \n",
    "    return os.path.basename(os.path.dirname(p))\n",
    "\n",
    "vclassName = np.vectorize(getClassName)\n",
    "db[\"className\"] = vclassName(db[\"Path\"])\n",
    "\n",
    "le = preprocessing.LabelEncoder()\n",
    "le.fit(['нейтраль', 'гнев', 'печаль', 'радость', 'страх'])\n",
    "db[\"class\"] = le.transform(db[\"className\"].values) \n",
    "\n",
    "#sns.pairplot(db[valueCols + [\"class\"]], hue=\"class\", diag_kind=\"kde\", size=3, markers=['x','o','v','^','<'])\n",
    "#plt.savefig('figures/' + dbname + '_pairplot.png')"
   ]
  },
  {
   "cell_type": "code",
   "execution_count": 166,
   "metadata": {
    "collapsed": false
   },
   "outputs": [
    {
     "data": {
      "image/png": "[encoded data removed]",
      "text/plain": [
       "<matplotlib.figure.Figure at 0x2cd5b4ce0f0>"
      ]
     },
     "metadata": {},
     "output_type": "display_data"
    }
   ],
   "source": [
    "# Set up the matplotlib figure\n",
    "f, ax = plt.subplots()\n",
    "\n",
    "sns.heatmap(db[valueCols+ [\"class\"]].corr(), ax=ax, square=True, linewidths=1)\n",
    "plt.gcf().suptitle('Train data correlation (' + dbname + ')')\n",
    "plt.savefig('figures/' + dbname + '_train_correlation.png')"
   ]
  },
  {
   "cell_type": "markdown",
   "metadata": {},
   "source": [
    "## Подготовка данных для классификатора"
   ]
  },
  {
   "cell_type": "code",
   "execution_count": 171,
   "metadata": {
    "collapsed": false
   },
   "outputs": [
    {
     "data": {
      "text/plain": [
       "LabelBinarizer(neg_label=0, pos_label=1, sparse_output=False)"
      ]
     },
     "execution_count": 171,
     "metadata": {},
     "output_type": "execute_result"
    }
   ],
   "source": [
    "# Перешаем датасет\n",
    "db = db.reindex(np.random.permutation(db.index))\n",
    "\n",
    "# Получим нужные данные в массив\n",
    "x_train = db[valueCols].values\n",
    "\n",
    "# Нормализуем входные данные\n",
    "x_train = (x_train - x_train.mean()) / (x_train.max() - x_train.min())\n",
    "\n",
    "y_train_raw = db[['class']].values.ravel()\n",
    "\n",
    "\n",
    "\n",
    "y_train = []\n",
    "for y in y_train_raw:\n",
    "    if y == 0:\n",
    "        y_train.append([1,0,0,0])\n",
    "    if y == 1:\n",
    "        y_train.append([0,0,0,0])\n",
    "    if y == 2:\n",
    "        y_train.append([0,1,0,0])\n",
    "    if y == 3:\n",
    "        y_train.append([0,0,1,0])\n",
    "    if y == 4:\n",
    "        y_train.append([0,0,1,0])\n",
    "    \n",
    "y_train = np.array(y_train)    \n",
    "\n",
    "#db[['Path','className', 'class']].values\n",
    "\n",
    "lb = preprocessing.LabelBinarizer()\n",
    "lb.fit(y_train_raw)\n",
    "#y_train = lb.transform(y_train_raw)"
   ]
  },
  {
   "cell_type": "markdown",
   "metadata": {},
   "source": [
    "## Настроим классификатор\n",
    "\n",
    "В качестве классификатора - многослойный персептрон"
   ]
  },
  {
   "cell_type": "code",
   "execution_count": 172,
   "metadata": {
    "collapsed": false
   },
   "outputs": [
    {
     "data": {
      "text/plain": [
       "MLPClassifier(activation='tanh', algorithm='l-bfgs', alpha=1e-06,\n",
       "       batch_size='auto', beta_1=0.9, beta_2=0.999, early_stopping=False,\n",
       "       epsilon=1e-08, hidden_layer_sizes=(100, 100),\n",
       "       learning_rate='adaptive', learning_rate_init=0.05, max_iter=1000,\n",
       "       momentum=0.9, nesterovs_momentum=True, power_t=0.5, random_state=1,\n",
       "       shuffle=True, tol=1e-06, validation_fraction=0.1, verbose=False,\n",
       "       warm_start=False)"
      ]
     },
     "execution_count": 172,
     "metadata": {},
     "output_type": "execute_result"
    }
   ],
   "source": [
    "from sklearn.neural_network import MLPClassifier\n",
    "\n",
    "# algs: l-bfgs, sgd, adam\n",
    "# actiovation: tanh, logistic, relu\n",
    "clf = MLPClassifier(activation='tanh', \n",
    "                    algorithm='l-bfgs', \n",
    "                    hidden_layer_sizes=(100,100), \n",
    "                    max_iter=1000, \n",
    "                    random_state=1, \n",
    "                    tol = 0.000001,\n",
    "                    alpha = 0.000001,\n",
    "                    learning_rate_init=0.05, \n",
    "                    learning_rate='adaptive')\n",
    "\n",
    "clf.fit(x_train, y_train)"
   ]
  },
  {
   "cell_type": "code",
   "execution_count": 173,
   "metadata": {
    "collapsed": false
   },
   "outputs": [
    {
     "name": "stdout",
     "output_type": "stream",
     "text": [
      "Точность классификатора: 0.81 (+/- 0.19)\n",
      "[ 0.8125   0.9375   0.84375  0.8125   0.8125   0.75     0.875    0.71875\n",
      "  0.90625  0.59375]\n"
     ]
    }
   ],
   "source": [
    "# Кросс-валидация\n",
    "cv = cross_validation.ShuffleSplit(len(y_train), n_iter=10, test_size=0.3, random_state=0)\n",
    "scores = cross_validation.cross_val_score(clf, x_train, y_train, cv=cv)\n",
    "print(\"Точность классификатора: %0.2f (+/- %0.2f)\" % (scores.mean(), scores.std() * 2))\n",
    "print(scores)"
   ]
  },
  {
   "cell_type": "code",
   "execution_count": 214,
   "metadata": {
    "collapsed": false
   },
   "outputs": [
    {
     "name": "stderr",
     "output_type": "stream",
     "text": [
      "c:\\users\\boris\\documents\\scikit-learn-master\\sklearn\\metrics\\ranking.py:541: UndefinedMetricWarning: No positive samples in y_true, true positive value should be meaningless\n",
      "  UndefinedMetricWarning)\n"
     ]
    },
    {
     "data": {
      "text/plain": [
       "2"
      ]
     },
     "execution_count": 214,
     "metadata": {},
     "output_type": "execute_result"
    },
    {
     "data": {
      "image/png": "[encoded data removed]",
      "text/plain": [
       "<matplotlib.figure.Figure at 0x2cd6303c5c0>"
      ]
     },
     "metadata": {},
     "output_type": "display_data"
    }
   ],
   "source": [
    "from sklearn.metrics import precision_recall_curve\n",
    "from sklearn.metrics import roc_curve\n",
    "\n",
    "plt.clf()\n",
    "#plt.xlabel('Recall')\n",
    "#plt.ylabel('Precision')\n",
    "#plt.ylim([0.0, 1.05])\n",
    "#plt.xlim([0.0, 1.0])\n",
    "\n",
    "nclasses = y_train.shape[1]\n",
    "precision = dict()\n",
    "recall = dict()\n",
    "#fpr = dict()\n",
    "#tpr = dict()\n",
    "y_score = clf.predict_proba(x_train)\n",
    "#y_score = clf.decision_function(x_train)\n",
    "for i in range(nclasses):\n",
    "    #precision[i], recall[i], _ = precision_recall_curve(y_train[:, i], y_score[:, i])\n",
    "    #plt.plot(recall[i], precision[i], label='Precision-recall curve of class ' + str(i))\n",
    "    fpr, tpr, _ = roc_curve(y_train[:, i], y_score[:, i])\n",
    "    plt.plot(fpr, tpr, label='ROC of class ' + str(i))\n",
    "\n",
    "#plt.title('Extension of Precision-Recall curve to multi-class')\n",
    "plt.legend(loc=\"lower right\")\n",
    "#\n",
    "#precision_recall_curve(y_train[:,0], predicted[:,0])\n",
    "y"
   ]
  },
  {
   "cell_type": "markdown",
   "metadata": {},
   "source": [
    "## Вычислим класс для каждой записи из экспериментов"
   ]
  },
  {
   "cell_type": "code",
   "execution_count": null,
   "metadata": {
    "collapsed": false
   },
   "outputs": [],
   "source": [
    "#name = \"reading\"\n",
    "#name = \"reading-splitted\"\n",
    "#name = \"plasticity\"\n",
    "name = \"Liberman M Emotional Prosody Speech and Transcripts\"\n",
    "#name = \"Emo-DB\"\n",
    "test = pd.read_csv('speech/' + name + \".csv\")\n",
    "test = test.dropna()\n",
    "test_data = test[valueCols]\n",
    "\n",
    "test_norm = (test_data - test_data.mean()) / (test_data.max() - test_data.min())\n",
    "test_data.head()"
   ]
  },
  {
   "cell_type": "code",
   "execution_count": null,
   "metadata": {
    "collapsed": false
   },
   "outputs": [],
   "source": [
    "res = clf.predict_log_proba(test_norm.values)\n",
    "#res"
   ]
  },
  {
   "cell_type": "code",
   "execution_count": null,
   "metadata": {
    "collapsed": false
   },
   "outputs": [],
   "source": [
    "predicted = res.argmin(axis=1)\n",
    "predicted"
   ]
  },
  {
   "cell_type": "code",
   "execution_count": null,
   "metadata": {
    "collapsed": false
   },
   "outputs": [],
   "source": [
    "def clname(x): return classes[x]\n",
    "cl = np.vectorize(clname)\n",
    "\n",
    "test['PredictedClass']=predicted\n",
    "test['PredictedClassName']=cl(predicted)"
   ]
  },
  {
   "cell_type": "code",
   "execution_count": null,
   "metadata": {
    "collapsed": false
   },
   "outputs": [],
   "source": [
    "test.to_csv('speech/' + name + '_predicted.csv', index_label=\"id\")\n",
    "#sns.pairplot(test[valueCols + ['predicted_class']], hue=\"predicted_class\", diag_kind=\"kde\", size=3, markers=['x','o','v','^','<'])\n",
    "#plt.savefig('figures/' + name + '.pairplot.png')\n",
    "\n",
    "corr = test[valueCols+ [\"PredictedClass\"]].corr()\n",
    "f, ax = plt.subplots()\n",
    "sns.heatmap(corr, ax=ax, square=True, linewidths=1)\n",
    "plt.gcf().suptitle(name + ' correlation (predicted)')\n",
    "plt.savefig('figures/' + name + '_predicted_correlation.png')\n",
    "corr.to_csv('speech/' + name + '_predicted_correlation.csv')"
   ]
  },
  {
   "cell_type": "markdown",
   "metadata": {},
   "source": [
    "# Предскажем класс по тесту Reading в самих результатах"
   ]
  },
  {
   "cell_type": "code",
   "execution_count": null,
   "metadata": {
    "collapsed": false
   },
   "outputs": [],
   "source": [
    "results = pd.read_csv('valid_results.csv')\n",
    "results = results.dropna()\n",
    "results_data = results[valueCols]\n",
    "results_data = (results_data - results_data.mean()) / (results_data.max() - results_data.min())"
   ]
  },
  {
   "cell_type": "code",
   "execution_count": null,
   "metadata": {
    "collapsed": false
   },
   "outputs": [],
   "source": [
    "predicted = clf.predict_log_proba(results_data.values).argmin(axis=1)\n",
    "predicted"
   ]
  },
  {
   "cell_type": "code",
   "execution_count": null,
   "metadata": {
    "collapsed": false
   },
   "outputs": [],
   "source": [
    "results['ReadingClass'] = predicted\n",
    "results['ReadingClassName']=cl(predicted)\n",
    "\n",
    "corr = results[valueCols+ [\"ReadingClass\"]].corr()\n",
    "f, ax = plt.subplots()\n",
    "sns.heatmap(corr, ax=ax, square=True, linewidths=1)\n",
    "plt.gcf().suptitle('Predicted results correlation')\n",
    "plt.savefig('figures/valid_results_predicted.correlation.png')\n",
    "\n",
    "results.to_csv('valid_results_predicted.csv', index=False, encoding='utf8')"
   ]
  },
  {
   "cell_type": "code",
   "execution_count": null,
   "metadata": {
    "collapsed": true
   },
   "outputs": [],
   "source": []
  }
 ],
 "metadata": {
  "kernelspec": {
   "display_name": "Python 3",
   "language": "python",
   "name": "python3"
  },
  "language_info": {
   "codemirror_mode": {
    "name": "ipython",
    "version": 3
   },
   "file_extension": ".py",
   "mimetype": "text/x-python",
   "name": "python",
   "nbconvert_exporter": "python",
   "pygments_lexer": "ipython3",
   "version": "3.5.1"
  }
 },
 "nbformat": 4,
 "nbformat_minor": 0
}
