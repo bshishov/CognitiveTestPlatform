{
 "cells": [
  {
   "cell_type": "code",
   "execution_count": 6,
   "metadata": {
    "collapsed": false
   },
   "outputs": [],
   "source": [
    "import math\n",
    "import matplotlib.pyplot as plt\n",
    "#%matplotlib inline\n",
    "import numpy as np\n",
    "import pandas as pd\n",
    "from sklearn import preprocessing\n",
    "from sklearn import cross_validation\n",
    "import os\n",
    "import os.path\n",
    "import re\n",
    "from scipy.signal import savgol_filter\n",
    "\n",
    "#import seaborn as sns\n",
    "#sns.set()\n",
    "\n",
    "#sns.set(style=\"whitegrid\")"
   ]
  },
  {
   "cell_type": "code",
   "execution_count": 16,
   "metadata": {
    "collapsed": false
   },
   "outputs": [],
   "source": [
    "def analyze(filename, saveto):    \n",
    "    db = pd.read_csv(filename)\n",
    "    db = db.dropna()\n",
    "    \n",
    "    #db.dtypes # FIX types -> float64\n",
    "    try:\n",
    "        db['T0'] = db['T0'].str.replace('%','').astype(np.float64)\n",
    "        db['HFEnergy'] = db['HFEnergy'].str.replace('%','').astype(np.float64)\n",
    "        db['M1'] = db['M1'].str.replace('%','').astype(np.float64)\n",
    "    except:\n",
    "        print(\"not needed\")\n",
    "    \n",
    "    \n",
    "    #Apply filtering\n",
    "    db2 = db.copy()\n",
    "    db2[\"F0\"] = savgol_filter(db[\"F0\"], 65, 3) # window size 51, polynomial order 3\n",
    "    db2[\"T0\"] = savgol_filter(db[\"T0\"], 65, 3) # window size 51, polynomial order 3\n",
    "    db2.drop('IsVocalized', axis=1, inplace=True)\n",
    "    \n",
    "    # Plot\n",
    "    axes = db2.plot(subplots=True, title=filename, figsize=(12, 25), sharex=True, legend=False, grid=True)\n",
    "\n",
    "    # FIX LEGENDS POSITIONS\n",
    "    def fixLegend(ax):   \n",
    "        patches, labels = ax.get_legend_handles_labels()\n",
    "        ax.legend(patches, labels, loc='upper right').get_frame().set_facecolor('white')   \n",
    "\n",
    "    tmp = np.vectorize(fixLegend)(axes)\n",
    "    plt.tight_layout(pad=5, w_pad=0.5, h_pad=0.5)\n",
    "    \n",
    "    # Saveplot            \n",
    "    plt.savefig(saveto)\n",
    "    plt.close()"
   ]
  },
  {
   "cell_type": "code",
   "execution_count": 17,
   "metadata": {
    "collapsed": false
   },
   "outputs": [
    {
     "name": "stdout",
     "output_type": "stream",
     "text": [
      "./speech\\splitted\\21-26-05-16---1.wav.csv figures/splitted/speech21-26-05-16---1.wav.csv.png\n",
      "not needed\n",
      "./speech\\splitted\\21-26-05-16---2.wav.csv figures/splitted/speech21-26-05-16---2.wav.csv.png\n",
      "not needed\n",
      "./speech\\splitted\\33-27-05-16---1.wav.csv figures/splitted/speech33-27-05-16---1.wav.csv.png\n",
      "./speech\\splitted\\33-27-05-16---2.wav.csv figures/splitted/speech33-27-05-16---2.wav.csv.png\n",
      "./speech\\splitted\\54-30-05-16---1.wav.csv figures/splitted/speech54-30-05-16---1.wav.csv.png\n",
      "./speech\\splitted\\54-30-05-16---2.wav.csv figures/splitted/speech54-30-05-16---2.wav.csv.png\n",
      "not needed\n",
      "./speech\\splitted\\58-31-05-16---1.wav.csv figures/splitted/speech58-31-05-16---1.wav.csv.png\n",
      "not needed\n",
      "./speech\\splitted\\58-31-05-16---2.wav.csv figures/splitted/speech58-31-05-16---2.wav.csv.png\n",
      "not needed\n",
      "./speech\\splitted\\67-31-05-16---1.wav.csv figures/splitted/speech67-31-05-16---1.wav.csv.png\n",
      "not needed\n",
      "./speech\\splitted\\67-31-05-16---2.wav.csv figures/splitted/speech67-31-05-16---2.wav.csv.png\n",
      "not needed\n"
     ]
    }
   ],
   "source": [
    "rootdir ='./speech'\n",
    "\n",
    "for subdir, dirs, files in os.walk(rootdir):\n",
    "    for file in files:        \n",
    "        if(re.match(r'.+.wav.csv',file)):\n",
    "            r = re.match(r'\\./(.+)\\\\(.+)',subdir)\n",
    "            if r:\n",
    "                testname = r.group(2)\n",
    "            else:\n",
    "                testname = \"splitted\"\n",
    "            pname = r.group(1)\n",
    "            directory = \"figures/\" + testname  + \"/\"\n",
    "            \n",
    "            if not os.path.exists(directory):\n",
    "                os.makedirs(directory)\n",
    "            \n",
    "            plotpath = os.path.join(directory, pname + file + '.png')\n",
    "            print(os.path.join(subdir, file), plotpath)\n",
    "            analyze(os.path.join(subdir, file), plotpath)  "
   ]
  },
  {
   "cell_type": "code",
   "execution_count": null,
   "metadata": {
    "collapsed": true
   },
   "outputs": [],
   "source": []
  },
  {
   "cell_type": "code",
   "execution_count": null,
   "metadata": {
    "collapsed": true
   },
   "outputs": [],
   "source": []
  }
 ],
 "metadata": {
  "kernelspec": {
   "display_name": "Python 3",
   "language": "python",
   "name": "python3"
  },
  "language_info": {
   "codemirror_mode": {
    "name": "ipython",
    "version": 3
   },
   "file_extension": ".py",
   "mimetype": "text/x-python",
   "name": "python",
   "nbconvert_exporter": "python",
   "pygments_lexer": "ipython3",
   "version": "3.5.1"
  }
 },
 "nbformat": 4,
 "nbformat_minor": 0
}
